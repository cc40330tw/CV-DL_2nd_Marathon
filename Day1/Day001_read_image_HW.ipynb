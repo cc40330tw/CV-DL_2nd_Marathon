{
 "cells": [
  {
   "cell_type": "markdown",
   "metadata": {},
   "source": [
    "# 作業\n",
    "\n",
    "思考一下我們前面有提到圖片是矩陣，但維度可能會不一樣\n",
    "例如灰階圖只有兩個維度，RGB 彩圖則有 3 個維度\n",
    "\n",
    "假如今天我們把 RGB 3 個維度拆開來看會有甚麼不同的效果呢？"
   ]
  },
  {
   "cell_type": "code",
   "execution_count": 6,
   "metadata": {},
   "outputs": [],
   "source": [
    "import cv2\n",
    "\n",
    "imagePath = 'rabbits.jpeg'\n",
    "image = cv2.imread(imagePath)\n",
    "image_gray = cv2.imread(imagePath,cv2.IMREAD_GRAYSCALE)\n",
    "\n",
    "cv2.imshow(\"Rabbits_BGR\",image)\n",
    "cv2.imshow(\"Rabbits_gray\",image_gray)\n",
    "cv2.waitKey(0)\n",
    "cv2.destroyAllWindows()\n",
    "#按任意鍵視窗就會不見"
   ]
  },
  {
   "cell_type": "code",
   "execution_count": 2,
   "metadata": {},
   "outputs": [],
   "source": [
    "import cv2\n",
    "\n",
    "imagePath = 'rabbits.jpeg'\n",
    "image = cv2.imread(imagePath,cv2.IMREAD_COLOR)\n",
    "image_gray = cv2.imread(imagePath,cv2.IMREAD_GRAYSCALE) \n",
    "\n",
    "while(True):\n",
    "    cv2.imshow(\"Rabbits_BGR\",image)\n",
    "    cv2.imshow(\"Rabbits_gray\",image_gray)\n",
    "    k = cv2.waitKey(0)\n",
    "    if k==27: #按ESC鍵視窗才會不見 (27是ESC的ASCII)\n",
    "        cv2.destroyAllWindows()\n",
    "        break"
   ]
  }
 ],
 "metadata": {
  "kernelspec": {
   "display_name": "Python 3",
   "language": "python",
   "name": "python3"
  },
  "language_info": {
   "codemirror_mode": {
    "name": "ipython",
    "version": 3
   },
   "file_extension": ".py",
   "mimetype": "text/x-python",
   "name": "python",
   "nbconvert_exporter": "python",
   "pygments_lexer": "ipython3",
   "version": "3.8.6"
  }
 },
 "nbformat": 4,
 "nbformat_minor": 2
}
